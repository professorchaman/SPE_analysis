{
 "cells": [
  {
   "cell_type": "code",
   "execution_count": 6,
   "metadata": {},
   "outputs": [],
   "source": [
    "import spe2py as spe\n",
    "from io import StringIO\n",
    "import spe_loader as sl\n",
    "import matplotlib.pyplot as plt\n",
    "import numpy as np"
   ]
  },
  {
   "cell_type": "code",
   "execution_count": 2,
   "metadata": {},
   "outputs": [],
   "source": [
    "\n",
    "def get_background_info(spe_tools, metadata):\n",
    "    \n",
    "    filepath = spe_tools.filepath\n",
    "    raw_filepath = filepath[:-4] + \"-raw.spe\"\n",
    "    # print(raw_filepath)\n",
    "    \n",
    "    bkg_class = metadata.SpeFormat.DataHistories.DataHistory.Origin.Experiment.Devices.Cameras.Camera.Experiment.OnlineCorrections.BackgroundCorrection\n",
    "    bkg_clt = bkg_class.Enabled.cdata\n",
    "    \n",
    "    if bkg_clt == 'True':\n",
    "        raw_file = sl.load_from_files([raw_filepath])\n",
    "\n",
    "        raw_data = raw_file.data[0][0][0]\n",
    "        bkg_data =  spe_tools.data[0][0][0] - raw_data\n",
    "\n",
    "        # bkg_data = bkg_class.ReferenceFile.cdata\n",
    "    else:\n",
    "        bkg_data = None\n",
    "    \n",
    "    return bkg_data\n",
    "\n",
    "def get_exposure_time(metadata):\n",
    "    et = metadata.SpeFormat.DataHistories.DataHistory.Origin.Experiment.Devices.Cameras.Camera.ShutterTiming.ExposureTime.cdata\n",
    "    return et\n",
    "\n",
    "def get_accumulation_info(metadata):\n",
    "    acc_class = metadata.SpeFormat.DataHistories.DataHistory.Origin.Experiment.Devices.Cameras.Camera.Experiment.OnlineProcessing.FrameCombination\n",
    "    acc_val = acc_class.FramesCombined.cdata\n",
    "    acc_method = acc_class.Method.cdata\n",
    "    \n",
    "    return acc_val, acc_method\n",
    "\n",
    "def get_grating_info(metadata):\n",
    "    \n",
    "    grating_class = metadata.SpeFormat.DataHistories.DataHistory.Origin.Experiment.Devices.Spectrometers.Spectrometer.Grating\n",
    "    cw_val = float(grating_class.CenterWavelength.cdata)\n",
    "\n",
    "    #print(grating_grove(grating_class) + ' g/mm')\n",
    "    #print(cw_val + ' nm')\n",
    "    \n",
    "    return grating_grove(grating_class), cw_val\n",
    "\n",
    "def grating_grove(grating_class):\n",
    "    grating_str = grating_class.Selected.cdata\n",
    "    \n",
    "    string_start = '['\n",
    "    string_end = ']'\n",
    "    string_to_search = ','\n",
    "\n",
    "    grating_start = grating_str.find(string_to_search,grating_str.find(string_start),grating_str.find(string_end))+1\n",
    "    grating_end = grating_str.find(string_end)\n",
    "    grating_val = grating_str[grating_start:grating_end]\n",
    "    #print(grating_val)\n",
    "    \n",
    "    return grating_val"
   ]
  },
  {
   "cell_type": "code",
   "execution_count": 3,
   "metadata": {},
   "outputs": [
    {
     "name": "stdout",
     "output_type": "stream",
     "text": [
      "Successfully loaded 1 file(s) in a SpeFile object\n"
     ]
    }
   ],
   "source": [
    "file_path = '../../Projects/CAF_LC/Data/09202022/Sankhya-YbCaF2-sample_T6-1020nm_Pow_3.85mW-et_0.3sec-avg_20-300_920nm-  01-raw.spe'\n",
    "spe_files = sl.load_from_files([file_path])"
   ]
  },
  {
   "cell_type": "code",
   "execution_count": 7,
   "metadata": {},
   "outputs": [
    {
     "name": "stdout",
     "output_type": "stream",
     "text": [
      "../../Projects/CAF_LC/Data/09202022/Sankhya-YbCaF2-sample_T6-1020nm_Pow_3.85mW-et_0.3sec-avg_20-300_920nm-  01-raw.spe\n",
      "[ 833.66981529  833.79897499  833.92813449 ... 1005.91998816 1006.04830573\n",
      " 1006.17662225]\n"
     ]
    }
   ],
   "source": [
    "spe_tools = spe_files\n",
    "filepath = spe_tools.filepath\n",
    "print(filepath)\n",
    "\n",
    "x_data = spe_tools._get_wavelength()\n",
    "print(x_data)\n",
    "\n",
    "# raw_filepath = filepath[:-4] + \"-raw.spe\"\n",
    "# print(raw_filepath)"
   ]
  },
  {
   "cell_type": "code",
   "execution_count": 5,
   "metadata": {},
   "outputs": [
    {
     "ename": "NameError",
     "evalue": "name 'np' is not defined",
     "output_type": "error",
     "traceback": [
      "\u001b[1;31m---------------------------------------------------------------------------\u001b[0m",
      "\u001b[1;31mNameError\u001b[0m                                 Traceback (most recent call last)",
      "\u001b[1;32mg:\\Shared drives\\Pauzauskie Team Drive\\Users\\CG\\Scripts\\SPE_analysis\\SPE test.ipynb Cell 5\u001b[0m in \u001b[0;36m<cell line: 2>\u001b[1;34m()\u001b[0m\n\u001b[0;32m      <a href='vscode-notebook-cell:/g%3A/Shared%20drives/Pauzauskie%20Team%20Drive/Users/CG/Scripts/SPE_analysis/SPE%20test.ipynb#W4sZmlsZQ%3D%3D?line=1'>2</a>\u001b[0m \u001b[39mfor\u001b[39;00m idx \u001b[39min\u001b[39;00m \u001b[39mrange\u001b[39m(\u001b[39m0\u001b[39m,tf):\n\u001b[0;32m      <a href='vscode-notebook-cell:/g%3A/Shared%20drives/Pauzauskie%20Team%20Drive/Users/CG/Scripts/SPE_analysis/SPE%20test.ipynb#W4sZmlsZQ%3D%3D?line=2'>3</a>\u001b[0m     file_data \u001b[39m=\u001b[39m spe_tools\u001b[39m.\u001b[39mdata[idx][\u001b[39m0\u001b[39m][\u001b[39m0\u001b[39m]\n\u001b[1;32m----> <a href='vscode-notebook-cell:/g%3A/Shared%20drives/Pauzauskie%20Team%20Drive/Users/CG/Scripts/SPE_analysis/SPE%20test.ipynb#W4sZmlsZQ%3D%3D?line=3'>4</a>\u001b[0m     datamatrix \u001b[39m=\u001b[39m np\u001b[39m.\u001b[39mcolumn_stack((x_data,file_data))\n",
      "\u001b[1;31mNameError\u001b[0m: name 'np' is not defined"
     ]
    }
   ],
   "source": [
    "tf = 2\n",
    "for idx in range(0,tf):\n",
    "    file_data = spe_tools.data[idx][0][0]\n",
    "    datamatrix = np.column_stack((x_data,file_data)) # Compiles corrected data into a new matrix\n",
    "    # savename = filepath[:-4]+f\"-{idx}.csv\" # Create filename for new data\n",
    "    # np.savetxt(savename, datamatrix) # Save new data\n",
    "    # np.savetxt(savename,datamatrix, delimiter=',')\n"
   ]
  },
  {
   "cell_type": "code",
   "execution_count": 34,
   "metadata": {},
   "outputs": [
    {
     "name": "stdout",
     "output_type": "stream",
     "text": [
      "['__class__', '__delattr__', '__dict__', '__dir__', '__doc__', '__eq__', '__format__', '__ge__', '__getattribute__', '__gt__', '__hash__', '__init__', '__init_subclass__', '__le__', '__lt__', '__module__', '__ne__', '__new__', '__reduce__', '__reduce_ex__', '__repr__', '__setattr__', '__sizeof__', '__str__', '__subclasshook__', '__weakref__', '_get_coords', '_get_dims', '_get_dtype', '_get_meta_dtype', '_get_roi_info', '_get_wavelength', '_read_data', '_read_footer', 'data', 'dtype', 'filepath', 'footer', 'header_version', 'metadata', 'metanames', 'nframes', 'nroi', 'roi', 'wavelength', 'xcoord', 'xdim', 'ycoord', 'ydim']\n"
     ]
    },
    {
     "data": {
      "image/png": "[encoded data removed]",
      "text/plain": [
       "<Figure size 432x288 with 1 Axes>"
      ]
     },
     "metadata": {
      "needs_background": "light"
     },
     "output_type": "display_data"
    },
    {
     "name": "stdout",
     "output_type": "stream",
     "text": [
      "               0\n",
      "3682  671.195186\n",
      "2625  671.223550\n",
      "2429  671.251913\n",
      "2301  671.280275\n",
      "2257  671.308636\n",
      "...          ...\n",
      "2410  708.358185\n",
      "2465  708.385461\n",
      "2547  708.412736\n",
      "2784  708.440011\n",
      "3854  708.467284\n",
      "\n",
      "[1340 rows x 1 columns]\n"
     ]
    }
   ],
   "source": [
    "print(dir(spe_tools))\n",
    "#print(type(spe_tools))\n",
    "#spe_tools._get_wavelength()\n",
    "\n",
    "metadata_footer = spe_tools.footer\n",
    "\n",
    "\n",
    "grove, cw = get_grating_info(metadata_footer)\n",
    "et = get_exposure_time(metadata_footer)\n",
    "acc_val, acc_method = get_accumulation_info(metadata_footer)\n",
    "# bkg_data = get_background_info(spe_tools, metadata_footer)\n",
    "\n",
    "plt.plot(x_data,file_data)\n",
    "plt.show()\n",
    "#print(spe_tools.xmltree(spe_tools.file.footer)) # Get all available data.\n",
    "\n",
    "## Example to access wavelength.\n",
    "ws = spe_tools.footer.SpeFormat.Calibrations.WavelengthMapping.Wavelength\n",
    "#print(ws)\n",
    "#grating_val = metadata_footer.SpeFormat.DataHistories.DataHistory.Origin.Experiment.System.Spectrometers.Spectrometer.Turrets.Turret.Gratings.Grating\n",
    "#cw_val = metadata_footer.SpeFormat.DataHistories.DataHistory.Origin.Experiment.System.Spectrometers.Spectrometer.Turrets.Turret.Gratings.Grating\n",
    "\n",
    "import numpy as np\n",
    "import pandas as pd\n",
    "\n",
    "df = pd.DataFrame(x_data.transpose(),file_data.transpose())\n",
    "print(df)\n",
    "\n",
    "#print(grating_val)\n",
    "#wavelength_string = StringIO(ws.cdata)\n",
    "\n",
    "#wavelength = np.loadtxt(wavelength_string, delimiter=',')"
   ]
  },
  {
   "cell_type": "code",
   "execution_count": null,
   "metadata": {},
   "outputs": [],
   "source": []
  }
 ],
 "metadata": {
  "kernelspec": {
   "display_name": "Python 3",
   "language": "python",
   "name": "python3"
  },
  "language_info": {
   "codemirror_mode": {
    "name": "ipython",
    "version": 3
   },
   "file_extension": ".py",
   "mimetype": "text/x-python",
   "name": "python",
   "nbconvert_exporter": "python",
   "pygments_lexer": "ipython3",
   "version": "3.10.4"
  },
  "orig_nbformat": 4,
  "vscode": {
   "interpreter": {
    "hash": "bdbce315960c3776fe868f285029d7a59084f2e8882315e6dd1aa58e67f790cf"
   }
  }
 },
 "nbformat": 4,
 "nbformat_minor": 2
}
